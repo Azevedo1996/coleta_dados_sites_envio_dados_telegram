{
  "nbformat": 4,
  "nbformat_minor": 0,
  "metadata": {
    "colab": {
      "provenance": [],
      "authorship_tag": "ABX9TyNMC1FMuSSa0mc08dTBD+ls",
      "include_colab_link": true
    },
    "kernelspec": {
      "name": "python3",
      "display_name": "Python 3"
    },
    "language_info": {
      "name": "python"
    }
  },
  "cells": [
    {
      "cell_type": "markdown",
      "metadata": {
        "id": "view-in-github",
        "colab_type": "text"
      },
      "source": [
        "<a href=\"https://colab.research.google.com/github/Azevedo1996/coleta_dados_sites_envio_dados_telegram/blob/main/coleta_de_dados_e_envio_via_telegram.ipynb\" target=\"_parent\"><img src=\"https://colab.research.google.com/assets/colab-badge.svg\" alt=\"Open In Colab\"/></a>"
      ]
    },
    {
      "cell_type": "code",
      "execution_count": null,
      "metadata": {
        "id": "CBViGBKg6BfO"
      },
      "outputs": [],
      "source": [
        "import requests\n",
        "from bs4 import BeautifulSoup\n",
        "import telegram\n",
        "\n",
        "# Configurações do bot do Telegram\n",
        "bot_token = \"SEU_TOKEN_AQUI\"\n",
        "bot_chatID = \"SEU_CHAT_ID_AQUI\"\n",
        "bot = telegram.Bot(token=bot_token)\n",
        "\n",
        "# Lista de URLs dos fundos imobiliários que queremos coletar informações\n",
        "fundos_urls = [\n",
        "    \"https://www.fundsexplorer.com.br/funds/abc-imobiliario-fii-abcp11b\",\n",
        "    \"https://www.fundsexplorer.com.br/funds/abcp-fii-abcp11\",\n",
        "    \"https://www.fundsexplorer.com.br/funds/alaska-black-fidc-np\"\n",
        "]\n",
        "\n",
        "for url in fundos_urls:\n",
        "    # Faz requisição HTTP para a página do fundo imobiliário\n",
        "    response = requests.get(url)\n",
        "\n",
        "    # Faz parsing do HTML da página usando BeautifulSoup\n",
        "    soup = BeautifulSoup(response.content, 'html.parser')\n",
        "\n",
        "    # Extrai as informações relevantes da página\n",
        "    dividend_yield = soup.find('span', {'id': 'dividend_yield'}).text.strip()\n",
        "    liquidez_media_diaria = soup.find('span', {'id': 'liquidez_media_diaria'}).text.strip()\n",
        "    preco_atual = soup.find('span', {'id': 'preco_atual'}).text.strip()\n",
        "    setor = soup.find('div', {'class': 'category-label'}).text.strip()\n",
        "    dividendo = soup.find('span', {'id': 'dividendo'}).text.strip()\n",
        "    variacao_preco = soup.find('span', {'id': 'variacao_preco'}).text.strip()\n",
        "    patrimonio_liquido = soup.find('span', {'id': 'patrimonio_liquido'}).text.strip()\n",
        "\n",
        "    # Cria mensagem com as informações coletadas\n",
        "    mensagem = f\"Dividend Yield: {dividend_yield}\\nLiquidez Média Diária: {liquidez_media_diaria}\\nPreço Atual: {preco_atual}\\nSetor: {setor}\\nDividendo: {dividendo}\\nVariação de Preço: {variacao_preco}\\nPatrimônio Líquido: {patrimonio_liquido}\"\n",
        "\n",
        "    # Envia a mensagem para o grupo do Telegram\n",
        "    bot.send_message(chat_id=bot_chatID, text=mensagem)\n"
      ]
    }
  ]
}